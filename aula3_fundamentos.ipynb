{
 "cells": [
  {
   "cell_type": "markdown",
   "id": "aa2a1ee2-83e6-47fd-92b4-2b1ea36e44eb",
   "metadata": {
    "tags": []
   },
   "source": [
    "## Números"
   ]
  },
  {
   "cell_type": "code",
   "execution_count": 1,
   "id": "1c8e2378-9f8f-4167-ae9f-4af9fc564d83",
   "metadata": {
    "tags": []
   },
   "outputs": [
    {
     "data": {
      "text/plain": [
       "3"
      ]
     },
     "execution_count": 1,
     "metadata": {},
     "output_type": "execute_result"
    }
   ],
   "source": [
    "2+1"
   ]
  },
  {
   "cell_type": "code",
   "execution_count": 2,
   "id": "118527ed-3555-490f-815b-bcb29c948e23",
   "metadata": {
    "tags": []
   },
   "outputs": [
    {
     "data": {
      "text/plain": [
       "1"
      ]
     },
     "execution_count": 2,
     "metadata": {},
     "output_type": "execute_result"
    }
   ],
   "source": [
    "2-1"
   ]
  },
  {
   "cell_type": "code",
   "execution_count": 3,
   "id": "51698e92-0bea-4468-8d26-1fe2068964b1",
   "metadata": {
    "tags": []
   },
   "outputs": [
    {
     "data": {
      "text/plain": [
       "4"
      ]
     },
     "execution_count": 3,
     "metadata": {},
     "output_type": "execute_result"
    }
   ],
   "source": [
    "2*2"
   ]
  },
  {
   "cell_type": "code",
   "execution_count": 4,
   "id": "962403fe-bbbc-4ef5-990c-ed8aa308b88d",
   "metadata": {
    "tags": []
   },
   "outputs": [
    {
     "data": {
      "text/plain": [
       "1.0"
      ]
     },
     "execution_count": 4,
     "metadata": {},
     "output_type": "execute_result"
    }
   ],
   "source": [
    "2/2"
   ]
  },
  {
   "cell_type": "code",
   "execution_count": 5,
   "id": "bc865fee-9221-4218-b3a9-5f1e1ee400ca",
   "metadata": {
    "tags": []
   },
   "outputs": [
    {
     "data": {
      "text/plain": [
       "9"
      ]
     },
     "execution_count": 5,
     "metadata": {},
     "output_type": "execute_result"
    }
   ],
   "source": [
    "3**2"
   ]
  },
  {
   "cell_type": "code",
   "execution_count": 6,
   "id": "c5f54ed4-194a-47a6-b9eb-fbd05e8a625f",
   "metadata": {
    "tags": []
   },
   "outputs": [
    {
     "data": {
      "text/plain": [
       "2.0"
      ]
     },
     "execution_count": 6,
     "metadata": {},
     "output_type": "execute_result"
    }
   ],
   "source": [
    "4**(1/2)"
   ]
  },
  {
   "cell_type": "code",
   "execution_count": 18,
   "id": "5ff78581-5137-409c-81bb-137db576112c",
   "metadata": {
    "tags": []
   },
   "outputs": [
    {
     "data": {
      "text/plain": [
       "1"
      ]
     },
     "execution_count": 18,
     "metadata": {},
     "output_type": "execute_result"
    }
   ],
   "source": [
    "5 % 2"
   ]
  },
  {
   "cell_type": "markdown",
   "id": "d0b56fb9-aea0-4290-938e-bdfc0fbbfd00",
   "metadata": {},
   "source": [
    "## Variáveis"
   ]
  },
  {
   "cell_type": "code",
   "execution_count": 7,
   "id": "91d92ade-1b84-465b-80ee-aea4ec82255c",
   "metadata": {
    "tags": []
   },
   "outputs": [],
   "source": [
    "a = 5"
   ]
  },
  {
   "cell_type": "code",
   "execution_count": 8,
   "id": "883de4af-0d6a-4a36-90d6-4a7a9c733521",
   "metadata": {
    "tags": []
   },
   "outputs": [
    {
     "data": {
      "text/plain": [
       "5"
      ]
     },
     "execution_count": 8,
     "metadata": {},
     "output_type": "execute_result"
    }
   ],
   "source": [
    "a"
   ]
  },
  {
   "cell_type": "code",
   "execution_count": 9,
   "id": "502f9131-b3df-4baf-8dd0-ad571ed914b6",
   "metadata": {
    "tags": []
   },
   "outputs": [],
   "source": [
    "variavel_um = 1"
   ]
  },
  {
   "cell_type": "code",
   "execution_count": 10,
   "id": "9d93ace1-5d70-4058-bce0-0c1e1c058bb7",
   "metadata": {
    "tags": []
   },
   "outputs": [
    {
     "data": {
      "text/plain": [
       "1"
      ]
     },
     "execution_count": 10,
     "metadata": {},
     "output_type": "execute_result"
    }
   ],
   "source": [
    "variavel_um"
   ]
  },
  {
   "cell_type": "code",
   "execution_count": 11,
   "id": "83b99771-63ea-4291-9164-7e18d77efaaa",
   "metadata": {
    "tags": []
   },
   "outputs": [
    {
     "data": {
      "text/plain": [
       "5"
      ]
     },
     "execution_count": 11,
     "metadata": {},
     "output_type": "execute_result"
    }
   ],
   "source": [
    "variavel_um * a"
   ]
  },
  {
   "cell_type": "code",
   "execution_count": 14,
   "id": "ec88c9aa-b571-4b5c-a64d-c7731bd60722",
   "metadata": {
    "tags": []
   },
   "outputs": [
    {
     "data": {
      "text/plain": [
       "6"
      ]
     },
     "execution_count": 14,
     "metadata": {},
     "output_type": "execute_result"
    }
   ],
   "source": [
    "terceira_variavel = variavel_um + a\n",
    "terceira_variavel"
   ]
  },
  {
   "cell_type": "code",
   "execution_count": 17,
   "id": "b162d416-f985-4bcc-8c84-29511726f3d6",
   "metadata": {
    "tags": []
   },
   "outputs": [
    {
     "data": {
      "text/plain": [
       "390625"
      ]
     },
     "execution_count": 17,
     "metadata": {},
     "output_type": "execute_result"
    }
   ],
   "source": [
    "a = a ** 2\n",
    "a"
   ]
  },
  {
   "cell_type": "markdown",
   "id": "76dc09e3-cde0-40ca-ba71-4af5937654c5",
   "metadata": {},
   "source": [
    "## Strings"
   ]
  },
  {
   "cell_type": "code",
   "execution_count": 19,
   "id": "54106c4b-8240-4030-a1e9-21f299eb5c4e",
   "metadata": {
    "tags": []
   },
   "outputs": [
    {
     "data": {
      "text/plain": [
       "'hello'"
      ]
     },
     "execution_count": 19,
     "metadata": {},
     "output_type": "execute_result"
    }
   ],
   "source": [
    "minha_string = \"hello\"\n",
    "minha_string"
   ]
  },
  {
   "cell_type": "code",
   "execution_count": 20,
   "id": "a3880afe-1344-4907-8f19-796384b13f0d",
   "metadata": {
    "tags": []
   },
   "outputs": [
    {
     "data": {
      "text/plain": [
       "'isto é minha string'"
      ]
     },
     "execution_count": 20,
     "metadata": {},
     "output_type": "execute_result"
    }
   ],
   "source": [
    "minha_string2 = \"isto é minha string\"\n",
    "minha_string2"
   ]
  },
  {
   "cell_type": "code",
   "execution_count": 21,
   "id": "6b72e216-8121-43a3-9a5c-bda2f8e2ccad",
   "metadata": {
    "tags": []
   },
   "outputs": [
    {
     "data": {
      "text/plain": [
       "19"
      ]
     },
     "execution_count": 21,
     "metadata": {},
     "output_type": "execute_result"
    }
   ],
   "source": [
    "len(minha_string2)"
   ]
  },
  {
   "cell_type": "code",
   "execution_count": 22,
   "id": "b831e045-52a2-4d63-ad74-e48aaff0f0e5",
   "metadata": {
    "tags": []
   },
   "outputs": [
    {
     "data": {
      "text/plain": [
       "'isto é minha stringhello'"
      ]
     },
     "execution_count": 22,
     "metadata": {},
     "output_type": "execute_result"
    }
   ],
   "source": [
    "minha_string2 + minha_string"
   ]
  },
  {
   "cell_type": "code",
   "execution_count": 23,
   "id": "dd28d4b1-5626-48e6-b340-2c25a1d911e2",
   "metadata": {
    "tags": []
   },
   "outputs": [
    {
     "data": {
      "text/plain": [
       "'isto é minha string jhagkihjashbd hello'"
      ]
     },
     "execution_count": 23,
     "metadata": {},
     "output_type": "execute_result"
    }
   ],
   "source": [
    "minha_string2 + \" jhagkihjashbd \" + minha_string"
   ]
  },
  {
   "cell_type": "code",
   "execution_count": 24,
   "id": "0b783ff0-2afb-4256-beb6-ff742282814c",
   "metadata": {
    "tags": []
   },
   "outputs": [
    {
     "data": {
      "text/plain": [
       "'h'"
      ]
     },
     "execution_count": 24,
     "metadata": {},
     "output_type": "execute_result"
    }
   ],
   "source": [
    "minha_string [0]"
   ]
  },
  {
   "cell_type": "markdown",
   "id": "aeb737cf-21c2-4e0a-bc68-180a4557c301",
   "metadata": {},
   "source": [
    " indexação, conta o caracter dentro do colchetes e retorna o valor. Da esquerda pra direta"
   ]
  },
  {
   "cell_type": "code",
   "execution_count": 25,
   "id": "64d50b83-8259-47a9-9101-c42abc6f0c47",
   "metadata": {
    "tags": []
   },
   "outputs": [
    {
     "data": {
      "text/plain": [
       "'hello'"
      ]
     },
     "execution_count": 25,
     "metadata": {},
     "output_type": "execute_result"
    }
   ],
   "source": [
    "minha_string [:]"
   ]
  },
  {
   "cell_type": "markdown",
   "id": "5ff1e5ca-6ed3-444b-9f3d-81418632c4af",
   "metadata": {},
   "source": [
    "retorna todos os valores"
   ]
  },
  {
   "cell_type": "code",
   "execution_count": 27,
   "id": "924c1c07-82b5-4b59-82ca-b19d691c3992",
   "metadata": {
    "tags": []
   },
   "outputs": [
    {
     "data": {
      "text/plain": [
       "'ell'"
      ]
     },
     "execution_count": 27,
     "metadata": {},
     "output_type": "execute_result"
    }
   ],
   "source": [
    "minha_string [1:4]"
   ]
  },
  {
   "cell_type": "markdown",
   "id": "94059bcf-8926-4ea1-ae12-d51746aee006",
   "metadata": {},
   "source": [
    "retorna a partir do numero dado : ate o numero dado"
   ]
  },
  {
   "cell_type": "code",
   "execution_count": 29,
   "id": "5ea4ea8e-8bd0-4443-9239-fe982960341a",
   "metadata": {
    "tags": []
   },
   "outputs": [
    {
     "data": {
      "text/plain": [
       "'o'"
      ]
     },
     "execution_count": 29,
     "metadata": {},
     "output_type": "execute_result"
    }
   ],
   "source": [
    "minha_string [-1]"
   ]
  },
  {
   "cell_type": "markdown",
   "id": "772e30fd-4ab0-4b5f-80c6-8bb09e1bd648",
   "metadata": {
    "tags": []
   },
   "source": [
    "  Da  direta pra esquerda "
   ]
  },
  {
   "cell_type": "code",
   "execution_count": 31,
   "id": "75cb90eb-b9da-4e72-a87b-c499511e1a3a",
   "metadata": {
    "tags": []
   },
   "outputs": [
    {
     "data": {
      "text/plain": [
       "'olleh'"
      ]
     },
     "execution_count": 31,
     "metadata": {},
     "output_type": "execute_result"
    }
   ],
   "source": [
    "minha_string [::-1]"
   ]
  },
  {
   "cell_type": "code",
   "execution_count": 32,
   "id": "75f55644-2ffe-4f06-8634-49b2b7c0f1ee",
   "metadata": {
    "tags": []
   },
   "outputs": [
    {
     "data": {
      "text/plain": [
       "'aaaaaaaaaa'"
      ]
     },
     "execution_count": 32,
     "metadata": {},
     "output_type": "execute_result"
    }
   ],
   "source": [
    "\"a\" * 10"
   ]
  },
  {
   "cell_type": "code",
   "execution_count": 33,
   "id": "9de36beb-ce37-4923-9edf-539f360de1fe",
   "metadata": {
    "tags": []
   },
   "outputs": [
    {
     "data": {
      "text/plain": [
       "str"
      ]
     },
     "execution_count": 33,
     "metadata": {},
     "output_type": "execute_result"
    }
   ],
   "source": [
    "type(\"a\")"
   ]
  },
  {
   "cell_type": "markdown",
   "id": "4f377ea0-9a30-4b61-a129-3039cf0290c0",
   "metadata": {},
   "source": [
    "## tipo da variavel"
   ]
  },
  {
   "cell_type": "code",
   "execution_count": 34,
   "id": "edaeef53-12da-499a-bb6c-3c6c0eee15bf",
   "metadata": {
    "tags": []
   },
   "outputs": [
    {
     "data": {
      "text/plain": [
       "['__add__',\n",
       " '__class__',\n",
       " '__contains__',\n",
       " '__delattr__',\n",
       " '__dir__',\n",
       " '__doc__',\n",
       " '__eq__',\n",
       " '__format__',\n",
       " '__ge__',\n",
       " '__getattribute__',\n",
       " '__getitem__',\n",
       " '__getnewargs__',\n",
       " '__getstate__',\n",
       " '__gt__',\n",
       " '__hash__',\n",
       " '__init__',\n",
       " '__init_subclass__',\n",
       " '__iter__',\n",
       " '__le__',\n",
       " '__len__',\n",
       " '__lt__',\n",
       " '__mod__',\n",
       " '__mul__',\n",
       " '__ne__',\n",
       " '__new__',\n",
       " '__reduce__',\n",
       " '__reduce_ex__',\n",
       " '__repr__',\n",
       " '__rmod__',\n",
       " '__rmul__',\n",
       " '__setattr__',\n",
       " '__sizeof__',\n",
       " '__str__',\n",
       " '__subclasshook__',\n",
       " 'capitalize',\n",
       " 'casefold',\n",
       " 'center',\n",
       " 'count',\n",
       " 'encode',\n",
       " 'endswith',\n",
       " 'expandtabs',\n",
       " 'find',\n",
       " 'format',\n",
       " 'format_map',\n",
       " 'index',\n",
       " 'isalnum',\n",
       " 'isalpha',\n",
       " 'isascii',\n",
       " 'isdecimal',\n",
       " 'isdigit',\n",
       " 'isidentifier',\n",
       " 'islower',\n",
       " 'isnumeric',\n",
       " 'isprintable',\n",
       " 'isspace',\n",
       " 'istitle',\n",
       " 'isupper',\n",
       " 'join',\n",
       " 'ljust',\n",
       " 'lower',\n",
       " 'lstrip',\n",
       " 'maketrans',\n",
       " 'partition',\n",
       " 'removeprefix',\n",
       " 'removesuffix',\n",
       " 'replace',\n",
       " 'rfind',\n",
       " 'rindex',\n",
       " 'rjust',\n",
       " 'rpartition',\n",
       " 'rsplit',\n",
       " 'rstrip',\n",
       " 'split',\n",
       " 'splitlines',\n",
       " 'startswith',\n",
       " 'strip',\n",
       " 'swapcase',\n",
       " 'title',\n",
       " 'translate',\n",
       " 'upper',\n",
       " 'zfill']"
      ]
     },
     "execution_count": 34,
     "metadata": {},
     "output_type": "execute_result"
    }
   ],
   "source": [
    "dir(\"Hello\")"
   ]
  },
  {
   "cell_type": "code",
   "execution_count": 35,
   "id": "e8c51c99-b142-4a30-ba05-19b3aec754b2",
   "metadata": {
    "tags": []
   },
   "outputs": [
    {
     "data": {
      "text/plain": [
       "'hello'"
      ]
     },
     "execution_count": 35,
     "metadata": {},
     "output_type": "execute_result"
    }
   ],
   "source": [
    "\"Hello\".lower()"
   ]
  },
  {
   "cell_type": "code",
   "execution_count": 36,
   "id": "aa054582-34c6-4d22-9782-d27837ced898",
   "metadata": {
    "tags": []
   },
   "outputs": [
    {
     "data": {
      "text/plain": [
       "['Hello', 'Vinicius']"
      ]
     },
     "execution_count": 36,
     "metadata": {},
     "output_type": "execute_result"
    }
   ],
   "source": [
    "\"Hello Vinicius\".split()"
   ]
  },
  {
   "cell_type": "code",
   "execution_count": 38,
   "id": "9063dfc8-5d2d-4678-8f49-48c525195ecd",
   "metadata": {
    "tags": []
   },
   "outputs": [
    {
     "data": {
      "text/plain": [
       "['He', '', 'o Vinicius']"
      ]
     },
     "execution_count": 38,
     "metadata": {},
     "output_type": "execute_result"
    }
   ],
   "source": [
    "\"Hello Vinicius\".split(\"l\")"
   ]
  },
  {
   "cell_type": "code",
   "execution_count": 39,
   "id": "97fdde14-afd3-4598-9f05-9973e44200af",
   "metadata": {
    "tags": []
   },
   "outputs": [
    {
     "data": {
      "text/plain": [
       "'Idade da pessoa é: 10'"
      ]
     },
     "execution_count": 39,
     "metadata": {},
     "output_type": "execute_result"
    }
   ],
   "source": [
    "idade = 10\n",
    "\"Idade da pessoa é: {}\".format(idade)"
   ]
  },
  {
   "cell_type": "code",
   "execution_count": 42,
   "id": "537e4e58-d5eb-4479-9aac-9432655673ee",
   "metadata": {
    "tags": []
   },
   "outputs": [
    {
     "data": {
      "text/plain": [
       "'Idade da pessoa é: 10 e o nome é: Vinicius '"
      ]
     },
     "execution_count": 42,
     "metadata": {},
     "output_type": "execute_result"
    }
   ],
   "source": [
    "idade = 10\n",
    "nome = \"Vinicius\"\n",
    "\"Idade da pessoa é: {} e o nome é: {} \".format(idade, nome)"
   ]
  },
  {
   "cell_type": "markdown",
   "id": "394d01d1-89ce-49dd-a322-c0ba25ba5856",
   "metadata": {},
   "source": [
    "## Listas"
   ]
  },
  {
   "cell_type": "code",
   "execution_count": 43,
   "id": "2f547476-5d18-4c0b-8c6a-0383e628c2f8",
   "metadata": {
    "tags": []
   },
   "outputs": [],
   "source": [
    "minha_lista = [1, 2, 3]"
   ]
  },
  {
   "cell_type": "code",
   "execution_count": 44,
   "id": "73ddd750-b409-4d33-8145-32dcfb96d4d5",
   "metadata": {
    "tags": []
   },
   "outputs": [
    {
     "data": {
      "text/plain": [
       "[1, 2, 3]"
      ]
     },
     "execution_count": 44,
     "metadata": {},
     "output_type": "execute_result"
    }
   ],
   "source": [
    "minha_lista"
   ]
  },
  {
   "cell_type": "code",
   "execution_count": 45,
   "id": "25aec0d0-c7e4-4704-ae2e-a5ca0c2ba110",
   "metadata": {
    "tags": []
   },
   "outputs": [
    {
     "data": {
      "text/plain": [
       "list"
      ]
     },
     "execution_count": 45,
     "metadata": {},
     "output_type": "execute_result"
    }
   ],
   "source": [
    "type(minha_lista)"
   ]
  },
  {
   "cell_type": "code",
   "execution_count": 46,
   "id": "3c0084a5-ffe9-4290-934e-3fa217b91b57",
   "metadata": {
    "tags": []
   },
   "outputs": [
    {
     "data": {
      "text/plain": [
       "1"
      ]
     },
     "execution_count": 46,
     "metadata": {},
     "output_type": "execute_result"
    }
   ],
   "source": [
    "minha_lista[0]"
   ]
  },
  {
   "cell_type": "code",
   "execution_count": 49,
   "id": "8b28d29d-f2ad-47ba-a515-f59b02e90cb4",
   "metadata": {
    "tags": []
   },
   "outputs": [],
   "source": [
    "minha_lista = [1, 2, \"hello\", [1, 2, 3,]]"
   ]
  },
  {
   "cell_type": "code",
   "execution_count": 51,
   "id": "e0d10a70-8e5a-400f-bdd0-65752a4b757a",
   "metadata": {
    "tags": []
   },
   "outputs": [
    {
     "data": {
      "text/plain": [
       "[2, 3]"
      ]
     },
     "execution_count": 51,
     "metadata": {},
     "output_type": "execute_result"
    }
   ],
   "source": [
    "minha_lista[3] [1:]"
   ]
  },
  {
   "cell_type": "code",
   "execution_count": 52,
   "id": "3acfd78a-db1f-4d8e-ac8a-f97e11e7a56f",
   "metadata": {
    "tags": []
   },
   "outputs": [
    {
     "data": {
      "text/plain": [
       "[1, 2, 'hello', [1, 2, 3], 1, 2, 'hello', [1, 2, 3]]"
      ]
     },
     "execution_count": 52,
     "metadata": {},
     "output_type": "execute_result"
    }
   ],
   "source": [
    "minha_lista * 2"
   ]
  },
  {
   "cell_type": "markdown",
   "id": "f534abfe-f75a-42c4-8ad6-24acbe5d9825",
   "metadata": {},
   "source": [
    "# Métodos básicos"
   ]
  },
  {
   "cell_type": "code",
   "execution_count": 13,
   "id": "86c3ad56-2007-4c37-8bab-15defdccfb89",
   "metadata": {
    "tags": []
   },
   "outputs": [],
   "source": [
    "l = [[1, 2, 3], [4,5,6]]"
   ]
  },
  {
   "cell_type": "code",
   "execution_count": 14,
   "id": "36f8ba69-728d-4649-9b3e-cca1fd30e76c",
   "metadata": {
    "tags": []
   },
   "outputs": [],
   "source": [
    "l[1].append(\"4\")"
   ]
  },
  {
   "cell_type": "code",
   "execution_count": 15,
   "id": "510c72af-1140-4963-96d4-ffbc7cdd33b1",
   "metadata": {
    "tags": []
   },
   "outputs": [
    {
     "data": {
      "text/plain": [
       "[[1, 2, 3], [4, 5, 6, '4']]"
      ]
     },
     "execution_count": 15,
     "metadata": {},
     "output_type": "execute_result"
    }
   ],
   "source": [
    "l"
   ]
  },
  {
   "cell_type": "code",
   "execution_count": 16,
   "id": "6fb025d0-6fb5-4815-9bbd-433eee3ccf29",
   "metadata": {
    "tags": []
   },
   "outputs": [
    {
     "data": {
      "text/plain": [
       "2"
      ]
     },
     "execution_count": 16,
     "metadata": {},
     "output_type": "execute_result"
    }
   ],
   "source": [
    "l[0].pop(1)"
   ]
  },
  {
   "cell_type": "code",
   "execution_count": 57,
   "id": "2a71ac59-1f55-4668-9544-4e95c7f51444",
   "metadata": {
    "tags": []
   },
   "outputs": [
    {
     "data": {
      "text/plain": [
       "[1, 2, 3]"
      ]
     },
     "execution_count": 57,
     "metadata": {},
     "output_type": "execute_result"
    }
   ],
   "source": [
    "l"
   ]
  },
  {
   "cell_type": "code",
   "execution_count": 58,
   "id": "4e3d9b95-1579-450b-b9ca-e94d11c8b6f0",
   "metadata": {
    "tags": []
   },
   "outputs": [],
   "source": [
    "new_list = [\"a\", \"b\", \"c\", \"d\"]"
   ]
  },
  {
   "cell_type": "code",
   "execution_count": 59,
   "id": "fa5a1b1b-6142-49c1-8411-e7d4ee8f6f76",
   "metadata": {
    "tags": []
   },
   "outputs": [
    {
     "data": {
      "text/plain": [
       "['a', 'b', 'c', 'd']"
      ]
     },
     "execution_count": 59,
     "metadata": {},
     "output_type": "execute_result"
    }
   ],
   "source": [
    "new_list"
   ]
  },
  {
   "cell_type": "code",
   "execution_count": 60,
   "id": "de9681b6-c464-4219-8448-b0d84a305647",
   "metadata": {
    "tags": []
   },
   "outputs": [],
   "source": [
    "new_list.sort()"
   ]
  },
  {
   "cell_type": "code",
   "execution_count": 61,
   "id": "7e1e4664-987a-4536-95b7-8b97db98b838",
   "metadata": {
    "tags": []
   },
   "outputs": [],
   "source": [
    "new_list.reverse()"
   ]
  },
  {
   "cell_type": "code",
   "execution_count": 62,
   "id": "79db73c3-6809-40d6-8349-d0b9e175a35a",
   "metadata": {
    "tags": []
   },
   "outputs": [
    {
     "data": {
      "text/plain": [
       "['d', 'c', 'b', 'a']"
      ]
     },
     "execution_count": 62,
     "metadata": {},
     "output_type": "execute_result"
    }
   ],
   "source": [
    "new_list"
   ]
  },
  {
   "cell_type": "markdown",
   "id": "6d741896-3b9e-4c32-9ef7-4be0c624b92b",
   "metadata": {},
   "source": [
    "## Dicionário"
   ]
  },
  {
   "cell_type": "code",
   "execution_count": 65,
   "id": "ca358cce-a2d5-42c9-8697-be931be27ff0",
   "metadata": {
    "tags": []
   },
   "outputs": [],
   "source": [
    "meu_dicionário = {\"nome\": \"Paulo\", \"idade\": 29, \"filhos\": [\"Joao\", \"maria\"]}"
   ]
  },
  {
   "cell_type": "code",
   "execution_count": 66,
   "id": "6b4c661d-f671-42e0-8332-e2851a5478c6",
   "metadata": {
    "tags": []
   },
   "outputs": [
    {
     "data": {
      "text/plain": [
       "{'nome': 'Paulo', 'idade': 29, 'filhos': ['Joao', 'maria']}"
      ]
     },
     "execution_count": 66,
     "metadata": {},
     "output_type": "execute_result"
    }
   ],
   "source": [
    "meu_dicionário"
   ]
  },
  {
   "cell_type": "code",
   "execution_count": 67,
   "id": "078bfe87-9deb-4aea-9424-f753f4c715c0",
   "metadata": {
    "tags": []
   },
   "outputs": [
    {
     "data": {
      "text/plain": [
       "dict"
      ]
     },
     "execution_count": 67,
     "metadata": {},
     "output_type": "execute_result"
    }
   ],
   "source": [
    "type(meu_dicionário)"
   ]
  },
  {
   "cell_type": "code",
   "execution_count": 71,
   "id": "c4ffc112-e068-4e84-8c17-d92a16bbb4b0",
   "metadata": {
    "tags": []
   },
   "outputs": [],
   "source": [
    "meu_dicionário[\"idade\"] = 31"
   ]
  },
  {
   "cell_type": "code",
   "execution_count": 72,
   "id": "f01f7d00-e2d6-49ae-9745-5d9607b5f38e",
   "metadata": {
    "tags": []
   },
   "outputs": [
    {
     "data": {
      "text/plain": [
       "31"
      ]
     },
     "execution_count": 72,
     "metadata": {},
     "output_type": "execute_result"
    }
   ],
   "source": [
    "meu_dicionário[\"idade\"] "
   ]
  },
  {
   "cell_type": "code",
   "execution_count": 73,
   "id": "c404f7d2-48f2-4893-820b-e6f27a5b4fb5",
   "metadata": {
    "tags": []
   },
   "outputs": [],
   "source": [
    "meu_dicionário[\"cidade\"] = \"São Paulo\""
   ]
  },
  {
   "cell_type": "code",
   "execution_count": 74,
   "id": "f30560da-c09e-43e4-8488-25460fb213ad",
   "metadata": {
    "tags": []
   },
   "outputs": [
    {
     "data": {
      "text/plain": [
       "{'nome': 'Paulo',\n",
       " 'idade': 31,\n",
       " 'filhos': ['Joao', 'maria'],\n",
       " 'cidade': 'São Paulo'}"
      ]
     },
     "execution_count": 74,
     "metadata": {},
     "output_type": "execute_result"
    }
   ],
   "source": [
    "meu_dicionário"
   ]
  },
  {
   "cell_type": "code",
   "execution_count": 75,
   "id": "b884eb68-2305-44c7-b1b0-fb62efe821d6",
   "metadata": {
    "tags": []
   },
   "outputs": [],
   "source": [
    "meu_dicionário[\"Variável Aleatória\"] = {\"a\": 1, \"b\": 2}"
   ]
  },
  {
   "cell_type": "code",
   "execution_count": 76,
   "id": "c0ed476c-adf2-4e67-94b3-5a224967cf2a",
   "metadata": {
    "tags": []
   },
   "outputs": [
    {
     "data": {
      "text/plain": [
       "{'nome': 'Paulo',\n",
       " 'idade': 31,\n",
       " 'filhos': ['Joao', 'maria'],\n",
       " 'cidade': 'São Paulo',\n",
       " 'Variável Aleatória': {'a': 1, 'b': 2}}"
      ]
     },
     "execution_count": 76,
     "metadata": {},
     "output_type": "execute_result"
    }
   ],
   "source": [
    "meu_dicionário"
   ]
  },
  {
   "cell_type": "code",
   "execution_count": 77,
   "id": "892f7e73-a7e2-4571-b063-8d25a49792a7",
   "metadata": {
    "tags": []
   },
   "outputs": [
    {
     "data": {
      "text/plain": [
       "dict_keys(['nome', 'idade', 'filhos', 'cidade', 'Variável Aleatória'])"
      ]
     },
     "execution_count": 77,
     "metadata": {},
     "output_type": "execute_result"
    }
   ],
   "source": [
    "meu_dicionário.keys()"
   ]
  },
  {
   "cell_type": "code",
   "execution_count": 78,
   "id": "185af637-2101-4986-afe4-0f626e5c9d3a",
   "metadata": {
    "tags": []
   },
   "outputs": [
    {
     "data": {
      "text/plain": [
       "dict_values(['Paulo', 31, ['Joao', 'maria'], 'São Paulo', {'a': 1, 'b': 2}])"
      ]
     },
     "execution_count": 78,
     "metadata": {},
     "output_type": "execute_result"
    }
   ],
   "source": [
    "meu_dicionário.values()"
   ]
  },
  {
   "cell_type": "code",
   "execution_count": 80,
   "id": "46333270-9073-439d-9bdb-687e1c8746d7",
   "metadata": {
    "tags": []
   },
   "outputs": [
    {
     "data": {
      "text/plain": [
       "dict_items([('nome', 'Paulo'), ('idade', 31), ('filhos', ['Joao', 'maria']), ('cidade', 'São Paulo'), ('Variável Aleatória', {'a': 1, 'b': 2})])"
      ]
     },
     "execution_count": 80,
     "metadata": {},
     "output_type": "execute_result"
    }
   ],
   "source": [
    "meu_dicionário.items()"
   ]
  },
  {
   "cell_type": "markdown",
   "id": "1de7204f-fcaa-446d-8c81-51cc0220a348",
   "metadata": {},
   "source": [
    "## Tuplas"
   ]
  },
  {
   "cell_type": "code",
   "execution_count": 81,
   "id": "b3c9105a-f48e-4f55-842d-84e89dcf168c",
   "metadata": {
    "tags": []
   },
   "outputs": [],
   "source": [
    "t = (1,2,3) "
   ]
  },
  {
   "cell_type": "code",
   "execution_count": 82,
   "id": "70b4a6cc-1e67-4827-b907-987d88ae682a",
   "metadata": {
    "tags": []
   },
   "outputs": [
    {
     "data": {
      "text/plain": [
       "2"
      ]
     },
     "execution_count": 82,
     "metadata": {},
     "output_type": "execute_result"
    }
   ],
   "source": [
    "t [1]"
   ]
  },
  {
   "cell_type": "code",
   "execution_count": 83,
   "id": "d8a0b37e-9afc-49a6-a843-cc3e376cc3fa",
   "metadata": {
    "tags": []
   },
   "outputs": [],
   "source": [
    "a, b = (1, 2)"
   ]
  },
  {
   "cell_type": "markdown",
   "id": "30e4477c-9a63-4c82-860a-23131ef77c82",
   "metadata": {},
   "source": [
    "## Input, Stes e Boleanos"
   ]
  },
  {
   "cell_type": "code",
   "execution_count": 84,
   "id": "969da3cb-1fb7-4470-aa75-324e195bdab9",
   "metadata": {
    "tags": []
   },
   "outputs": [
    {
     "name": "stdout",
     "output_type": "stream",
     "text": [
      " 123\n"
     ]
    }
   ],
   "source": [
    "a = input()"
   ]
  },
  {
   "cell_type": "code",
   "execution_count": 85,
   "id": "5c63dc3a-fdc0-43c7-9234-af2b61ff3e83",
   "metadata": {
    "tags": []
   },
   "outputs": [
    {
     "data": {
      "text/plain": [
       "'123'"
      ]
     },
     "execution_count": 85,
     "metadata": {},
     "output_type": "execute_result"
    }
   ],
   "source": [
    "a"
   ]
  },
  {
   "cell_type": "code",
   "execution_count": 86,
   "id": "73bfc58e-e46e-4448-8b29-97f959c5e47d",
   "metadata": {
    "tags": []
   },
   "outputs": [
    {
     "data": {
      "text/plain": [
       "123"
      ]
     },
     "execution_count": 86,
     "metadata": {},
     "output_type": "execute_result"
    }
   ],
   "source": [
    "int(a) #inteiro"
   ]
  },
  {
   "cell_type": "code",
   "execution_count": 87,
   "id": "03e5d727-0443-46a8-a9b7-22f391f5e31c",
   "metadata": {
    "tags": []
   },
   "outputs": [],
   "source": [
    "x = set()"
   ]
  },
  {
   "cell_type": "code",
   "execution_count": 88,
   "id": "0f960f89-9ce6-4f9d-85ae-009bc5605a37",
   "metadata": {
    "tags": []
   },
   "outputs": [
    {
     "data": {
      "text/plain": [
       "{1}"
      ]
     },
     "execution_count": 88,
     "metadata": {},
     "output_type": "execute_result"
    }
   ],
   "source": [
    "x.add(1)\n",
    "x"
   ]
  },
  {
   "cell_type": "code",
   "execution_count": 89,
   "id": "081f6889-39d0-4a62-9e7b-356db84e8bd1",
   "metadata": {
    "tags": []
   },
   "outputs": [
    {
     "data": {
      "text/plain": [
       "{1, 2}"
      ]
     },
     "execution_count": 89,
     "metadata": {},
     "output_type": "execute_result"
    }
   ],
   "source": [
    "x.add(2)\n",
    "x"
   ]
  },
  {
   "cell_type": "code",
   "execution_count": 90,
   "id": "d2345acd-ed9c-4747-a1bb-0f377c2bd61c",
   "metadata": {
    "tags": []
   },
   "outputs": [
    {
     "data": {
      "text/plain": [
       "{1, 2, 3}"
      ]
     },
     "execution_count": 90,
     "metadata": {},
     "output_type": "execute_result"
    }
   ],
   "source": [
    "x.add(3)\n",
    "x"
   ]
  },
  {
   "cell_type": "code",
   "execution_count": 92,
   "id": "31f7b097-b39a-4c81-954e-5a15a4aca4db",
   "metadata": {
    "tags": []
   },
   "outputs": [
    {
     "data": {
      "text/plain": [
       "{1, 2, 3}"
      ]
     },
     "execution_count": 92,
     "metadata": {},
     "output_type": "execute_result"
    }
   ],
   "source": [
    "x.add(3)\n",
    "x #o comando set nao deixou incluir o numero repetido"
   ]
  },
  {
   "cell_type": "code",
   "execution_count": 93,
   "id": "1e5b12de-ece9-4d4b-8e14-028162458a58",
   "metadata": {
    "tags": []
   },
   "outputs": [
    {
     "data": {
      "text/plain": [
       "[1, 2, 3, 4, 5, 5, 5, 5, 6]"
      ]
     },
     "execution_count": 93,
     "metadata": {},
     "output_type": "execute_result"
    }
   ],
   "source": [
    "l = [1, 2, 3, 4, 5, 5, 5, 5, 6,]\n",
    "l"
   ]
  },
  {
   "cell_type": "code",
   "execution_count": 96,
   "id": "051eca96-1fc2-4cce-a8ee-24f29f02a3d5",
   "metadata": {
    "tags": []
   },
   "outputs": [
    {
     "data": {
      "text/plain": [
       "set()"
      ]
     },
     "execution_count": 96,
     "metadata": {},
     "output_type": "execute_result"
    }
   ],
   "source": [
    "l = set()\n",
    "l"
   ]
  },
  {
   "cell_type": "code",
   "execution_count": 97,
   "id": "6c93259d-540f-4f8a-91fa-4a9a977d55c5",
   "metadata": {
    "tags": []
   },
   "outputs": [
    {
     "data": {
      "text/plain": [
       "set()"
      ]
     },
     "execution_count": 97,
     "metadata": {},
     "output_type": "execute_result"
    }
   ],
   "source": [
    "l"
   ]
  },
  {
   "cell_type": "code",
   "execution_count": 98,
   "id": "9f5b2a46-d732-4df8-8f38-fe79e965e534",
   "metadata": {
    "tags": []
   },
   "outputs": [
    {
     "data": {
      "text/plain": [
       "[1, 2, 3, 4, 5, 5, 5, 5, 6]"
      ]
     },
     "execution_count": 98,
     "metadata": {},
     "output_type": "execute_result"
    }
   ],
   "source": [
    "l = [1, 2, 3, 4, 5, 5, 5, 5, 6,]\n",
    "l"
   ]
  },
  {
   "cell_type": "code",
   "execution_count": 99,
   "id": "e0194ae7-b8af-44d8-bf34-f371c517b240",
   "metadata": {
    "tags": []
   },
   "outputs": [
    {
     "data": {
      "text/plain": [
       "{1, 2, 3, 4, 5, 6}"
      ]
     },
     "execution_count": 99,
     "metadata": {},
     "output_type": "execute_result"
    }
   ],
   "source": [
    "set(l)"
   ]
  },
  {
   "cell_type": "code",
   "execution_count": 100,
   "id": "6b57eb9f-e07f-43b2-a802-aea4b3d9b508",
   "metadata": {
    "tags": []
   },
   "outputs": [],
   "source": [
    "l1 = set(l)"
   ]
  },
  {
   "cell_type": "code",
   "execution_count": 101,
   "id": "c6edf46b-3080-4157-8ef6-911623c89319",
   "metadata": {
    "tags": []
   },
   "outputs": [
    {
     "data": {
      "text/plain": [
       "{1, 2, 3, 4, 5, 6}"
      ]
     },
     "execution_count": 101,
     "metadata": {},
     "output_type": "execute_result"
    }
   ],
   "source": [
    "x.union(l1)"
   ]
  },
  {
   "cell_type": "code",
   "execution_count": 103,
   "id": "3abe504d-d25e-4850-9936-7cb68575104a",
   "metadata": {
    "tags": []
   },
   "outputs": [
    {
     "data": {
      "text/plain": [
       "{1, 2, 3}"
      ]
     },
     "execution_count": 103,
     "metadata": {},
     "output_type": "execute_result"
    }
   ],
   "source": [
    "x.intersection(l1) #intercessao"
   ]
  },
  {
   "cell_type": "markdown",
   "id": "15347ad0-79d1-40ed-815f-8833eea0d1c7",
   "metadata": {
    "tags": []
   },
   "source": [
    "# Boleano"
   ]
  },
  {
   "cell_type": "code",
   "execution_count": 106,
   "id": "a4e01273-9186-4ebb-bccc-da3053ba3841",
   "metadata": {
    "tags": []
   },
   "outputs": [],
   "source": [
    "a = True"
   ]
  },
  {
   "cell_type": "code",
   "execution_count": 107,
   "id": "78cc2160-d6f9-43d0-a575-9ef1e492dc3f",
   "metadata": {
    "tags": []
   },
   "outputs": [],
   "source": [
    "b = False"
   ]
  },
  {
   "cell_type": "code",
   "execution_count": 108,
   "id": "cb926df5-7668-46b3-8c66-43c2e5529de1",
   "metadata": {
    "tags": []
   },
   "outputs": [
    {
     "data": {
      "text/plain": [
       "False"
      ]
     },
     "execution_count": 108,
     "metadata": {},
     "output_type": "execute_result"
    }
   ],
   "source": [
    "1 > 2"
   ]
  },
  {
   "cell_type": "markdown",
   "id": "8934f2c9-daa9-45a3-9e42-e35408c9a105",
   "metadata": {
    "jp-MarkdownHeadingCollapsed": true,
    "tags": []
   },
   "source": [
    "## Operadores de comparação em cadeira"
   ]
  },
  {
   "cell_type": "code",
   "execution_count": 2,
   "id": "0c6f1887-fb2e-4c06-afa9-8f2daca92620",
   "metadata": {
    "tags": []
   },
   "outputs": [
    {
     "data": {
      "text/plain": [
       "False"
      ]
     },
     "execution_count": 2,
     "metadata": {},
     "output_type": "execute_result"
    }
   ],
   "source": [
    "1 > 2 > 3 # se responde verdadeiro se todas as comparações forem verdadeiras"
   ]
  },
  {
   "cell_type": "code",
   "execution_count": 4,
   "id": "03332568-9f11-4770-83ed-fccaa95ea151",
   "metadata": {
    "tags": []
   },
   "outputs": [
    {
     "data": {
      "text/plain": [
       "False"
      ]
     },
     "execution_count": 4,
     "metadata": {},
     "output_type": "execute_result"
    }
   ],
   "source": [
    "2 > 1 and 2 > 3 # se responde verdadeiro se todas as comparações forem verdadeiras"
   ]
  },
  {
   "cell_type": "code",
   "execution_count": 5,
   "id": "a4e1cbbb-863b-40fc-bd52-545476027c27",
   "metadata": {
    "tags": []
   },
   "outputs": [
    {
     "data": {
      "text/plain": [
       "True"
      ]
     },
     "execution_count": 5,
     "metadata": {},
     "output_type": "execute_result"
    }
   ],
   "source": [
    "2 > 1 or 2 > 3"
   ]
  },
  {
   "cell_type": "code",
   "execution_count": 6,
   "id": "3f12c250-5ebe-4048-b683-432d2d0bfa5d",
   "metadata": {
    "tags": []
   },
   "outputs": [
    {
     "data": {
      "text/plain": [
       "False"
      ]
     },
     "execution_count": 6,
     "metadata": {},
     "output_type": "execute_result"
    }
   ],
   "source": [
    "(2 > 1 or 2 > 3) and (2 > 1 and 2 > 3)"
   ]
  },
  {
   "cell_type": "markdown",
   "id": "116ab670-7a98-472a-a36e-01e24b5f0e3f",
   "metadata": {
    "jp-MarkdownHeadingCollapsed": true,
    "tags": []
   },
   "source": [
    "## If, elif, else"
   ]
  },
  {
   "cell_type": "code",
   "execution_count": 7,
   "id": "a363960c-604d-4b22-8673-30c024983456",
   "metadata": {
    "tags": []
   },
   "outputs": [
    {
     "name": "stdout",
     "output_type": "stream",
     "text": [
      "Está quente\n"
     ]
    }
   ],
   "source": [
    "temp = 31\n",
    "\n",
    "if temp > 30 :\n",
    "    print(\"Está quente\")"
   ]
  },
  {
   "cell_type": "code",
   "execution_count": 10,
   "id": "9f85c0ef-9820-49af-9b8e-daacd9948bd8",
   "metadata": {
    "tags": []
   },
   "outputs": [
    {
     "name": "stdout",
     "output_type": "stream",
     "text": [
      "temperatura está agradével\n"
     ]
    }
   ],
   "source": [
    "temp = 10\n",
    "\n",
    "if temp > 30 :\n",
    "    print(\"Está quente\")\n",
    "elif temp < 0:\n",
    "    print(\"Está muito frio\")\n",
    "else :\n",
    "    print(\"temperatura está agradével\")"
   ]
  },
  {
   "cell_type": "markdown",
   "id": "4f97f07a-6457-43d5-9159-a80256f6e095",
   "metadata": {
    "jp-MarkdownHeadingCollapsed": true,
    "tags": []
   },
   "source": [
    "## Range"
   ]
  },
  {
   "cell_type": "code",
   "execution_count": 11,
   "id": "8cf95745-a1ea-4226-9ab3-9bfc20256d23",
   "metadata": {
    "tags": []
   },
   "outputs": [
    {
     "data": {
      "text/plain": [
       "range(0, 10)"
      ]
     },
     "execution_count": 11,
     "metadata": {},
     "output_type": "execute_result"
    }
   ],
   "source": [
    "range(0, 10, 1)"
   ]
  },
  {
   "cell_type": "code",
   "execution_count": 12,
   "id": "66a2b84a-ccd8-45b4-bea2-a3497a861d39",
   "metadata": {
    "tags": []
   },
   "outputs": [
    {
     "data": {
      "text/plain": [
       "[0, 1, 2, 3, 4, 5, 6, 7, 8, 9]"
      ]
     },
     "execution_count": 12,
     "metadata": {},
     "output_type": "execute_result"
    }
   ],
   "source": [
    "list(range(0, 10, 1))"
   ]
  },
  {
   "cell_type": "markdown",
   "id": "ae6d3734-1776-4bfd-955a-b240e8f1256e",
   "metadata": {
    "jp-MarkdownHeadingCollapsed": true,
    "tags": []
   },
   "source": [
    "## For"
   ]
  },
  {
   "cell_type": "code",
   "execution_count": 13,
   "id": "0b2bbfc7-7e3a-4117-8284-85dd2b162a09",
   "metadata": {
    "tags": []
   },
   "outputs": [
    {
     "data": {
      "text/plain": [
       "range(0, 10)"
      ]
     },
     "execution_count": 13,
     "metadata": {},
     "output_type": "execute_result"
    }
   ],
   "source": [
    "range(10)"
   ]
  },
  {
   "cell_type": "code",
   "execution_count": 15,
   "id": "6f886bb2-9407-4f46-b894-6bd0ef6bdf83",
   "metadata": {
    "tags": []
   },
   "outputs": [
    {
     "name": "stdout",
     "output_type": "stream",
     "text": [
      "Olá\n",
      "0\n",
      "Olá\n",
      "1\n",
      "Olá\n",
      "2\n",
      "Olá\n",
      "3\n",
      "Olá\n",
      "4\n",
      "Olá\n",
      "5\n",
      "Olá\n",
      "6\n",
      "Olá\n",
      "7\n",
      "Olá\n",
      "8\n",
      "Olá\n",
      "9\n"
     ]
    }
   ],
   "source": [
    "for i in range(10):\n",
    "    print(\"Olá\")\n",
    "    print(i)"
   ]
  },
  {
   "cell_type": "code",
   "execution_count": 16,
   "id": "f8dba166-df3e-4abe-9bf1-213e0cada1a7",
   "metadata": {
    "tags": []
   },
   "outputs": [
    {
     "name": "stdout",
     "output_type": "stream",
     "text": [
      "a\n",
      "b\n",
      "c\n"
     ]
    }
   ],
   "source": [
    "l = [\"a\", \"b\", \"c\"]\n",
    "for i in l:\n",
    "    print(i)"
   ]
  },
  {
   "cell_type": "code",
   "execution_count": 17,
   "id": "51e96f40-cc85-40fb-90c9-42ba9418bdb6",
   "metadata": {
    "tags": []
   },
   "outputs": [
    {
     "data": {
      "text/plain": [
       "1"
      ]
     },
     "execution_count": 17,
     "metadata": {},
     "output_type": "execute_result"
    }
   ],
   "source": [
    "5%2 # resto da divisão"
   ]
  },
  {
   "cell_type": "code",
   "execution_count": 21,
   "id": "001fe0ae-e0a1-4ef1-858e-e66e019c65e9",
   "metadata": {
    "scrolled": true,
    "tags": []
   },
   "outputs": [
    {
     "name": "stdout",
     "output_type": "stream",
     "text": [
      " 0 é par\n",
      " 1 é impar\n",
      " 2 é par\n",
      " 3 é impar\n",
      " 4 é par\n",
      " 5 é impar\n",
      " 6 é par\n",
      " 7 é impar\n",
      " 8 é par\n",
      " 9 é impar\n",
      " 10 é par\n",
      " 11 é impar\n",
      " 12 é par\n",
      " 13 é impar\n",
      " 14 é par\n",
      " 15 é impar\n",
      " 16 é par\n",
      " 17 é impar\n",
      " 18 é par\n",
      " 19 é impar\n",
      " 20 é par\n",
      " 21 é impar\n",
      " 22 é par\n",
      " 23 é impar\n",
      " 24 é par\n",
      " 25 é impar\n",
      " 26 é par\n",
      " 27 é impar\n",
      " 28 é par\n",
      " 29 é impar\n",
      " 30 é par\n",
      " 31 é impar\n",
      " 32 é par\n",
      " 33 é impar\n",
      " 34 é par\n",
      " 35 é impar\n",
      " 36 é par\n",
      " 37 é impar\n",
      " 38 é par\n",
      " 39 é impar\n",
      " 40 é par\n",
      " 41 é impar\n",
      " 42 é par\n",
      " 43 é impar\n",
      " 44 é par\n",
      " 45 é impar\n",
      " 46 é par\n",
      " 47 é impar\n",
      " 48 é par\n",
      " 49 é impar\n",
      " 50 é par\n",
      " 51 é impar\n",
      " 52 é par\n",
      " 53 é impar\n",
      " 54 é par\n",
      " 55 é impar\n",
      " 56 é par\n",
      " 57 é impar\n",
      " 58 é par\n",
      " 59 é impar\n",
      " 60 é par\n",
      " 61 é impar\n",
      " 62 é par\n",
      " 63 é impar\n",
      " 64 é par\n",
      " 65 é impar\n",
      " 66 é par\n",
      " 67 é impar\n",
      " 68 é par\n",
      " 69 é impar\n",
      " 70 é par\n",
      " 71 é impar\n",
      " 72 é par\n",
      " 73 é impar\n",
      " 74 é par\n",
      " 75 é impar\n",
      " 76 é par\n",
      " 77 é impar\n",
      " 78 é par\n",
      " 79 é impar\n",
      " 80 é par\n",
      " 81 é impar\n",
      " 82 é par\n",
      " 83 é impar\n",
      " 84 é par\n",
      " 85 é impar\n",
      " 86 é par\n",
      " 87 é impar\n",
      " 88 é par\n",
      " 89 é impar\n",
      " 90 é par\n",
      " 91 é impar\n",
      " 92 é par\n",
      " 93 é impar\n",
      " 94 é par\n",
      " 95 é impar\n",
      " 96 é par\n",
      " 97 é impar\n",
      " 98 é par\n",
      " 99 é impar\n"
     ]
    }
   ],
   "source": [
    "for i in range(100):\n",
    "    if i % 2 == 0: \n",
    "        print(\" {} é par\".format(i))\n",
    "    else:\n",
    "          print(\" {} é impar\".format(i))"
   ]
  },
  {
   "cell_type": "markdown",
   "id": "168f3673-05ba-432f-9941-496a25e9711e",
   "metadata": {},
   "source": [
    "## WHILE"
   ]
  },
  {
   "cell_type": "code",
   "execution_count": 25,
   "id": "a4e8c641-2ef9-45d2-96f8-90c320b7e371",
   "metadata": {
    "tags": []
   },
   "outputs": [
    {
     "name": "stdout",
     "output_type": "stream",
     "text": [
      "O valor de x é 0\n",
      "O valor de x é 1\n",
      "O valor de x é 2\n",
      "O valor de x é 3\n",
      "O valor de x é 4\n",
      "O valor de x é 5\n",
      "O valor de x é 6\n",
      "O valor de x é 7\n",
      "O valor de x é 8\n",
      "O valor de x é 9\n"
     ]
    }
   ],
   "source": [
    "x = 0 \n",
    "\n",
    "while x < 10 :\n",
    "    print(\"O valor de x é {}\".format(x))\n",
    "    x += 1 # x = x + 1"
   ]
  },
  {
   "cell_type": "code",
   "execution_count": 27,
   "id": "5ede7860-664e-4ebe-93d5-1f29c4fdedd3",
   "metadata": {
    "tags": []
   },
   "outputs": [
    {
     "name": "stdout",
     "output_type": "stream",
     "text": [
      "O valor de x é 0\n",
      "x ainda é menor que 10\n",
      "O valor de x é 1\n",
      "x ainda é menor que 10\n",
      "O valor de x é 2\n",
      "x ainda é menor que 10\n",
      "O valor de x é 3\n",
      "x ainda é menor que 10\n",
      "O valor de x é 4\n",
      "x ainda é menor que 10\n",
      "O valor de x é 5\n",
      "x ainda é menor que 10\n",
      "O valor de x é 6\n",
      "x ainda é menor que 10\n",
      "O valor de x é 7\n",
      "x ainda é menor que 10\n",
      "O valor de x é 8\n",
      "x ainda é menor que 10\n",
      "O valor de x é 9\n",
      "x ainda é menor que 10\n",
      "concluido\n"
     ]
    }
   ],
   "source": [
    "x = 0 \n",
    "\n",
    "while x < 10 :\n",
    "    print(\"O valor de x é {}\".format(x))\n",
    "    print(\"x ainda é menor que 10\")\n",
    "    x += 1 # x = x + 1\n",
    "else:\n",
    "    print(\"concluido\")"
   ]
  },
  {
   "cell_type": "code",
   "execution_count": null,
   "id": "41e5e21d-8e01-40c5-8b74-3b21eac66bbd",
   "metadata": {
    "tags": []
   },
   "outputs": [],
   "source": [
    "x = 0 \n",
    "\n",
    "while x < 10 :\n",
    "    print(\"O valor de x é {}\".format(x))\n",
    "     x += 1 \n",
    "    \n",
    "else:\n",
    "    print(\"concluido\")"
   ]
  },
  {
   "cell_type": "code",
   "execution_count": null,
   "id": "70f8140e-09c8-497a-ae9d-924e79c1f304",
   "metadata": {
    "tags": []
   },
   "outputs": [],
   "source": [
    "break"
   ]
  },
  {
   "cell_type": "code",
   "execution_count": null,
   "id": "bb535249-db99-4383-a83e-aa2721712046",
   "metadata": {
    "tags": []
   },
   "outputs": [],
   "source": [
    "continue"
   ]
  },
  {
   "cell_type": "code",
   "execution_count": null,
   "id": "1d53b15c-6f56-47c0-908a-3cebdcebdc98",
   "metadata": {
    "tags": []
   },
   "outputs": [],
   "source": [
    "while True:"
   ]
  },
  {
   "cell_type": "markdown",
   "id": "6015e6df-e5bd-42ba-bac3-04cb684def3f",
   "metadata": {},
   "source": [
    "## Compreensao em listas"
   ]
  },
  {
   "cell_type": "code",
   "execution_count": 1,
   "id": "92af73d5-97d4-4ec9-bc1a-45a1e3ab5f9f",
   "metadata": {
    "tags": []
   },
   "outputs": [],
   "source": [
    "word = \"string\""
   ]
  },
  {
   "cell_type": "code",
   "execution_count": 2,
   "id": "f07c26bd-9bc0-45b6-a2e3-cb0f354179da",
   "metadata": {
    "tags": []
   },
   "outputs": [],
   "source": [
    "lista_word = []"
   ]
  },
  {
   "cell_type": "code",
   "execution_count": 5,
   "id": "0254909b-a3a4-448d-8de2-12ea7c90e6ca",
   "metadata": {
    "tags": []
   },
   "outputs": [],
   "source": [
    "for w in word:\n",
    "    lista_word.append(w)"
   ]
  },
  {
   "cell_type": "code",
   "execution_count": 6,
   "id": "158a3981-0dbf-461f-a366-7b55a6e6d776",
   "metadata": {
    "tags": []
   },
   "outputs": [
    {
     "data": {
      "text/plain": [
       "['s', 't', 'r', 'i', 'n', 'g']"
      ]
     },
     "execution_count": 6,
     "metadata": {},
     "output_type": "execute_result"
    }
   ],
   "source": [
    "lista_word"
   ]
  },
  {
   "cell_type": "code",
   "execution_count": 11,
   "id": "3dda268e-99db-48af-a075-1614c69040b3",
   "metadata": {
    "tags": []
   },
   "outputs": [],
   "source": [
    "lista_word = [ w for w in word ]"
   ]
  },
  {
   "cell_type": "code",
   "execution_count": 12,
   "id": "3011aafd-5ebe-4ffd-ba05-2f1bcbcdc7eb",
   "metadata": {
    "tags": []
   },
   "outputs": [
    {
     "data": {
      "text/plain": [
       "['s', 't', 'r', 'i', 'n', 'g']"
      ]
     },
     "execution_count": 12,
     "metadata": {},
     "output_type": "execute_result"
    }
   ],
   "source": [
    "lista_word"
   ]
  },
  {
   "cell_type": "code",
   "execution_count": 15,
   "id": "d4106370-3b8e-4fd3-bd69-1f61aeef80d8",
   "metadata": {
    "tags": []
   },
   "outputs": [
    {
     "data": {
      "text/plain": [
       "[0, 1, 4, 9, 16, 25, 36, 49, 64, 81, 100]"
      ]
     },
     "execution_count": 15,
     "metadata": {},
     "output_type": "execute_result"
    }
   ],
   "source": [
    "lista_2 = [ x**2 for x in range(11)]\n",
    "lista_2"
   ]
  },
  {
   "cell_type": "code",
   "execution_count": 17,
   "id": "c55df8d7-573c-40ab-8dce-4a129b711754",
   "metadata": {
    "tags": []
   },
   "outputs": [
    {
     "data": {
      "text/plain": [
       "[0, 2, 4, 6, 8, 10]"
      ]
     },
     "execution_count": 17,
     "metadata": {},
     "output_type": "execute_result"
    }
   ],
   "source": [
    "lista_3 = [ x for x in range (11) \n",
    "               if x % 2 == 0]\n",
    "lista_3"
   ]
  },
  {
   "cell_type": "markdown",
   "id": "c390358c-ef4e-494e-8365-899e5be0532f",
   "metadata": {},
   "source": [
    "## funções "
   ]
  },
  {
   "cell_type": "code",
   "execution_count": 18,
   "id": "6e77d312-d6a1-46ff-8e7f-a8a1db52be8d",
   "metadata": {
    "tags": []
   },
   "outputs": [],
   "source": [
    "def diga_ola():\n",
    "    print(\"Olá\")"
   ]
  },
  {
   "cell_type": "code",
   "execution_count": 20,
   "id": "328e474f-377b-4c23-ae69-46a73b0d491f",
   "metadata": {
    "tags": []
   },
   "outputs": [
    {
     "name": "stdout",
     "output_type": "stream",
     "text": [
      "Olá\n"
     ]
    }
   ],
   "source": [
    "diga_ola() ##abrir e fechar parenteses executa a funcao"
   ]
  },
  {
   "cell_type": "code",
   "execution_count": 23,
   "id": "a034d323-33ba-4664-928a-1b7298c21e13",
   "metadata": {
    "tags": []
   },
   "outputs": [],
   "source": [
    "def diga_ola(nome):\n",
    "    print(\"Olá, {}.\".format(nome))"
   ]
  },
  {
   "cell_type": "code",
   "execution_count": 24,
   "id": "fdb9e9de-5c3b-4f85-a490-b0ea41c5bf67",
   "metadata": {
    "tags": []
   },
   "outputs": [
    {
     "name": "stdout",
     "output_type": "stream",
     "text": [
      "Olá, vinicius.\n"
     ]
    }
   ],
   "source": [
    "diga_ola(\"vinicius\")"
   ]
  },
  {
   "cell_type": "code",
   "execution_count": 27,
   "id": "5ebc0429-57b6-49f5-a7c6-2f05af612d67",
   "metadata": {
    "tags": []
   },
   "outputs": [],
   "source": [
    "def gerador_de_numeros_impares(x):\n",
    "    return [ i for i in range(x)\n",
    "                     if i % 2 == 1]"
   ]
  },
  {
   "cell_type": "code",
   "execution_count": 28,
   "id": "68b07825-83b7-49be-9258-a6a928bc743c",
   "metadata": {
    "scrolled": true,
    "tags": []
   },
   "outputs": [
    {
     "data": {
      "text/plain": [
       "[1,\n",
       " 3,\n",
       " 5,\n",
       " 7,\n",
       " 9,\n",
       " 11,\n",
       " 13,\n",
       " 15,\n",
       " 17,\n",
       " 19,\n",
       " 21,\n",
       " 23,\n",
       " 25,\n",
       " 27,\n",
       " 29,\n",
       " 31,\n",
       " 33,\n",
       " 35,\n",
       " 37,\n",
       " 39,\n",
       " 41,\n",
       " 43,\n",
       " 45,\n",
       " 47,\n",
       " 49]"
      ]
     },
     "execution_count": 28,
     "metadata": {},
     "output_type": "execute_result"
    }
   ],
   "source": [
    "gerador_de_numeros_impares(50)"
   ]
  },
  {
   "cell_type": "code",
   "execution_count": 29,
   "id": "ac566bbc-edbc-4768-ad4d-62fbd3d46fb5",
   "metadata": {
    "tags": []
   },
   "outputs": [],
   "source": [
    "def elevar_ao_quadrado(x):\n",
    "    return x** 2"
   ]
  },
  {
   "cell_type": "code",
   "execution_count": 30,
   "id": "96f1455d-f036-4c20-bf2a-f9e96febda50",
   "metadata": {
    "tags": []
   },
   "outputs": [
    {
     "data": {
      "text/plain": [
       "100"
      ]
     },
     "execution_count": 30,
     "metadata": {},
     "output_type": "execute_result"
    }
   ],
   "source": [
    "elevar_ao_quadrado(10)"
   ]
  },
  {
   "cell_type": "code",
   "execution_count": 32,
   "id": "d3b61c1f-11f3-446c-a476-6ea9f5aaabf9",
   "metadata": {
    "tags": []
   },
   "outputs": [],
   "source": [
    "a = lambda x: x ** 2"
   ]
  },
  {
   "cell_type": "code",
   "execution_count": 33,
   "id": "bde29085-52db-414b-a67a-56ab19b75c85",
   "metadata": {
    "tags": []
   },
   "outputs": [
    {
     "data": {
      "text/plain": [
       "10000"
      ]
     },
     "execution_count": 33,
     "metadata": {},
     "output_type": "execute_result"
    }
   ],
   "source": [
    "a(100)"
   ]
  },
  {
   "cell_type": "markdown",
   "id": "275082e6",
   "metadata": {},
   "source": [
    "## Debugger"
   ]
  },
  {
   "cell_type": "code",
   "execution_count": null,
   "id": "3b76d265",
   "metadata": {},
   "outputs": [],
   "source": [
    "import pdb"
   ]
  },
  {
   "cell_type": "markdown",
   "id": "025f5623",
   "metadata": {},
   "source": [
    "## Try, except e finally"
   ]
  },
  {
   "cell_type": "code",
   "execution_count": 74,
   "id": "cbcb1b79",
   "metadata": {},
   "outputs": [
    {
     "ename": "TypeError",
     "evalue": "can only concatenate list (not \"int\") to list",
     "output_type": "error",
     "traceback": [
      "\u001b[1;31m---------------------------------------------------------------------------\u001b[0m",
      "\u001b[1;31mTypeError\u001b[0m                                 Traceback (most recent call last)",
      "Cell \u001b[1;32mIn[74], line 4\u001b[0m\n\u001b[0;32m      1\u001b[0m x \u001b[39m=\u001b[39m [\u001b[39m1\u001b[39m, \u001b[39m2\u001b[39m, \u001b[39m3\u001b[39m]\n\u001b[0;32m      2\u001b[0m y \u001b[39m=\u001b[39m \u001b[39m1\u001b[39m\n\u001b[1;32m----> 4\u001b[0m x \u001b[39m+\u001b[39m y\n",
      "\u001b[1;31mTypeError\u001b[0m: can only concatenate list (not \"int\") to list"
     ]
    }
   ],
   "source": [
    "x = [1, 2, 3]\n",
    "y = 1\n",
    "\n",
    "x + y"
   ]
  },
  {
   "cell_type": "code",
   "execution_count": 78,
   "id": "65307347",
   "metadata": {},
   "outputs": [
    {
     "name": "stdout",
     "output_type": "stream",
     "text": [
      "Erro: can only concatenate list (not \"int\") to list\n",
      "ola\n"
     ]
    }
   ],
   "source": [
    "x = [1, 2, 3]\n",
    "y = 1\n",
    "\n",
    "try: #tenta executar \n",
    "    x + y\n",
    "    x = 1\n",
    "    y = 2\n",
    "\n",
    "except Exception as e: #caso de problema  no try ele executa o except. incluindo o exception ele atribui a msg de erro a uma variavel\n",
    "    print('Erro: {}'.format(e))\n",
    "\n",
    "finally:\n",
    "    print('ola') # se nao tive o except ele executaria o finally independente do erro"
   ]
  },
  {
   "cell_type": "markdown",
   "id": "9c8cfd4a",
   "metadata": {},
   "source": [
    "## Logging"
   ]
  },
  {
   "cell_type": "code",
   "execution_count": 80,
   "id": "b1dc8aec",
   "metadata": {},
   "outputs": [],
   "source": [
    "import logging # permite que escreva em arquivo txt tudo que esta descrito no codigo"
   ]
  },
  {
   "cell_type": "code",
   "execution_count": 86,
   "id": "d2d0abef",
   "metadata": {},
   "outputs": [],
   "source": [
    "log_format = \"%(levelname)s %(asctime)s - %(message)s\""
   ]
  },
  {
   "cell_type": "code",
   "execution_count": 87,
   "id": "9fa7c6f7",
   "metadata": {},
   "outputs": [],
   "source": [
    "logging.basicConfig(filename=\"aula_log.log\", level= logging.DEBUG, filemode= 'w', format=log_format) #vai registrar todos as execucoes do grau \"debug\" em um arquivo txt chamado \"aula_log.log\" "
   ]
  },
  {
   "cell_type": "code",
   "execution_count": 82,
   "id": "348fb1f7",
   "metadata": {},
   "outputs": [],
   "source": [
    "log = logging.getLogger() #aqui ela efetivamente executa os registros"
   ]
  },
  {
   "cell_type": "code",
   "execution_count": 85,
   "id": "b58ffa85",
   "metadata": {},
   "outputs": [],
   "source": [
    "log.critical('erro critico') # level 50\n",
    "log.error('olá') # lvl 40\n",
    "log.warning('erro grave')# lvl 30\n",
    "log.info('ola') #lvl 20\n",
    "log.debug('erro grave') # lvl 10\n"
   ]
  },
  {
   "cell_type": "code",
   "execution_count": 84,
   "id": "e6a7a858",
   "metadata": {},
   "outputs": [
    {
     "data": {
      "text/plain": [
       "10"
      ]
     },
     "execution_count": 84,
     "metadata": {},
     "output_type": "execute_result"
    }
   ],
   "source": [
    "log.level"
   ]
  },
  {
   "cell_type": "markdown",
   "id": "e11629ba-cdd8-42e1-8bec-a385f247beae",
   "metadata": {},
   "source": [
    "## Programação orientada a objetos"
   ]
  },
  {
   "cell_type": "code",
   "execution_count": 1,
   "id": "a4246c80",
   "metadata": {},
   "outputs": [],
   "source": [
    "l = [1,2,3]"
   ]
  },
  {
   "cell_type": "code",
   "execution_count": 3,
   "id": "206eae61",
   "metadata": {},
   "outputs": [
    {
     "name": "stdout",
     "output_type": "stream",
     "text": [
      "<class 'list'>\n"
     ]
    }
   ],
   "source": [
    "print(type(l)) #objeto do tipo lista"
   ]
  },
  {
   "cell_type": "code",
   "execution_count": 4,
   "id": "d70dcf0d",
   "metadata": {},
   "outputs": [],
   "source": [
    "class Exemplo(): #criando o proprio objeto\n",
    "    pass"
   ]
  },
  {
   "cell_type": "code",
   "execution_count": 5,
   "id": "ada7b936",
   "metadata": {},
   "outputs": [],
   "source": [
    "x = Exemplo() # criando um objeto do tipo exemplo"
   ]
  },
  {
   "cell_type": "code",
   "execution_count": 7,
   "id": "1ee12791",
   "metadata": {},
   "outputs": [
    {
     "name": "stdout",
     "output_type": "stream",
     "text": [
      "<class '__main__.Exemplo'>\n"
     ]
    }
   ],
   "source": [
    "print(type(x))"
   ]
  },
  {
   "cell_type": "code",
   "execution_count": 22,
   "id": "3d451663",
   "metadata": {},
   "outputs": [],
   "source": [
    "class Dog():\n",
    "    def __init__(self, raca): #__init__ é inicialização, self define o método\n",
    "        #idade = 1 #essa variável so vai existir aqui dentro\n",
    "        self.idade = 10\n",
    "        self.raca = raca\n",
    "    \n",
    "    def envelhecer(self):\n",
    "        self.idade += 1\n",
    "\n",
    "    "
   ]
  },
  {
   "cell_type": "code",
   "execution_count": 33,
   "id": "8d83b592",
   "metadata": {},
   "outputs": [],
   "source": [
    "dog = Dog('labrador')\n",
    "dog2 = Dog('huskye')"
   ]
  },
  {
   "cell_type": "code",
   "execution_count": 34,
   "id": "92526245",
   "metadata": {},
   "outputs": [
    {
     "data": {
      "text/plain": [
       "10"
      ]
     },
     "execution_count": 34,
     "metadata": {},
     "output_type": "execute_result"
    }
   ],
   "source": [
    "dog.idade \n",
    "dog.idade"
   ]
  },
  {
   "cell_type": "code",
   "execution_count": 25,
   "id": "fdf10b4c",
   "metadata": {},
   "outputs": [
    {
     "data": {
      "text/plain": [
       "10"
      ]
     },
     "execution_count": 25,
     "metadata": {},
     "output_type": "execute_result"
    }
   ],
   "source": [
    "dog2.idade"
   ]
  },
  {
   "cell_type": "code",
   "execution_count": 26,
   "id": "bcedbdf0",
   "metadata": {},
   "outputs": [
    {
     "data": {
      "text/plain": [
       "'labrador'"
      ]
     },
     "execution_count": 26,
     "metadata": {},
     "output_type": "execute_result"
    }
   ],
   "source": [
    "dog.raca"
   ]
  },
  {
   "cell_type": "code",
   "execution_count": 38,
   "id": "c9a7108c",
   "metadata": {},
   "outputs": [
    {
     "data": {
      "text/plain": [
       "14"
      ]
     },
     "execution_count": 38,
     "metadata": {},
     "output_type": "execute_result"
    }
   ],
   "source": [
    "dog.envelhecer()\n",
    "dog.idade"
   ]
  },
  {
   "cell_type": "code",
   "execution_count": 65,
   "id": "d90b8d13",
   "metadata": {},
   "outputs": [],
   "source": [
    "class Circle():\n",
    "\n",
    "    def __init__(self, raio = 1):\n",
    "        self.raio = raio\n",
    "\n",
    "    def calculo_area(self):\n",
    "        self.area = self.raio**2 * 3.14 #pi\n",
    "        return self.area\n"
   ]
  },
  {
   "cell_type": "code",
   "execution_count": 67,
   "id": "cd13886b",
   "metadata": {},
   "outputs": [],
   "source": [
    "c1 = Circle()\n",
    "c2 = Circle(2)"
   ]
  },
  {
   "cell_type": "code",
   "execution_count": 68,
   "id": "e85bbb67",
   "metadata": {},
   "outputs": [
    {
     "data": {
      "text/plain": [
       "1"
      ]
     },
     "execution_count": 68,
     "metadata": {},
     "output_type": "execute_result"
    }
   ],
   "source": [
    "c1.raio"
   ]
  },
  {
   "cell_type": "code",
   "execution_count": 69,
   "id": "e0ce7289",
   "metadata": {},
   "outputs": [
    {
     "data": {
      "text/plain": [
       "2"
      ]
     },
     "execution_count": 69,
     "metadata": {},
     "output_type": "execute_result"
    }
   ],
   "source": [
    "c2.raio"
   ]
  },
  {
   "cell_type": "code",
   "execution_count": 71,
   "id": "89955290",
   "metadata": {},
   "outputs": [
    {
     "data": {
      "text/plain": [
       "3.14"
      ]
     },
     "execution_count": 71,
     "metadata": {},
     "output_type": "execute_result"
    }
   ],
   "source": [
    "c1.calculo_area()"
   ]
  },
  {
   "cell_type": "code",
   "execution_count": 73,
   "id": "4312aa58",
   "metadata": {},
   "outputs": [
    {
     "data": {
      "text/plain": [
       "12.56"
      ]
     },
     "execution_count": 73,
     "metadata": {},
     "output_type": "execute_result"
    }
   ],
   "source": [
    "c2.calculo_area()"
   ]
  },
  {
   "cell_type": "code",
   "execution_count": null,
   "id": "b6a9d5e2",
   "metadata": {},
   "outputs": [],
   "source": []
  },
  {
   "cell_type": "markdown",
   "id": "056cb8fc",
   "metadata": {},
   "source": [
    "# Herança"
   ]
  },
  {
   "cell_type": "code",
   "execution_count": 92,
   "id": "ae6736eb",
   "metadata": {},
   "outputs": [],
   "source": [
    "class Animal:\n",
    "    def __init__(self) :\n",
    "        print('Animal criado')\n",
    "\n",
    "    def quem_sou_eu(self) :\n",
    "        print('Eu sou um animal')\n",
    "\n",
    "    def comer(self):\n",
    "        print('comendo')\n",
    "\n",
    "class Cachorro(Animal): #heranca, este comando herdou todos as características da classe animal\n",
    "    def __init__(self):\n",
    "        Animal.__init__(self)\n",
    "        print('eu sou um cachorro')\n",
    "\n",
    "    def quem_sou_eu(self) :\n",
    "        print('Eu sou um cachorro')\n",
    "    "
   ]
  },
  {
   "cell_type": "code",
   "execution_count": 93,
   "id": "26f0cf1d",
   "metadata": {},
   "outputs": [
    {
     "name": "stdout",
     "output_type": "stream",
     "text": [
      "Animal criado\n"
     ]
    }
   ],
   "source": [
    "animal = Animal()"
   ]
  },
  {
   "cell_type": "code",
   "execution_count": 94,
   "id": "97c2c148",
   "metadata": {},
   "outputs": [
    {
     "name": "stdout",
     "output_type": "stream",
     "text": [
      "Animal criado\n"
     ]
    }
   ],
   "source": [
    "dog = Cachorro()"
   ]
  },
  {
   "cell_type": "code",
   "execution_count": 95,
   "id": "ee6da2e1",
   "metadata": {},
   "outputs": [
    {
     "name": "stdout",
     "output_type": "stream",
     "text": [
      "Eu sou um cachorro\n"
     ]
    }
   ],
   "source": [
    "dog.quem_sou_eu()"
   ]
  },
  {
   "cell_type": "code",
   "execution_count": null,
   "id": "cd158684",
   "metadata": {},
   "outputs": [],
   "source": []
  }
 ],
 "metadata": {
  "kernelspec": {
   "display_name": "Python 3 (ipykernel)",
   "language": "python",
   "name": "python3"
  },
  "language_info": {
   "codemirror_mode": {
    "name": "ipython",
    "version": 3
   },
   "file_extension": ".py",
   "mimetype": "text/x-python",
   "name": "python",
   "nbconvert_exporter": "python",
   "pygments_lexer": "ipython3",
   "version": "3.11.4"
  }
 },
 "nbformat": 4,
 "nbformat_minor": 5
}
