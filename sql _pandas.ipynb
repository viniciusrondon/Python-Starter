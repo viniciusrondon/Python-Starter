{
 "cells": [
  {
   "cell_type": "markdown",
   "metadata": {},
   "source": [
    "## Guardando imformações num banco de dados"
   ]
  },
  {
   "cell_type": "code",
   "execution_count": 1,
   "metadata": {},
   "outputs": [],
   "source": [
    "import sqlite3\n",
    "import pandas as pd\n",
    "\n",
    "\n"
   ]
  },
  {
   "cell_type": "code",
   "execution_count": 5,
   "metadata": {},
   "outputs": [
    {
     "data": {
      "text/html": [
       "<div>\n",
       "<style scoped>\n",
       "    .dataframe tbody tr th:only-of-type {\n",
       "        vertical-align: middle;\n",
       "    }\n",
       "\n",
       "    .dataframe tbody tr th {\n",
       "        vertical-align: top;\n",
       "    }\n",
       "\n",
       "    .dataframe thead th {\n",
       "        text-align: right;\n",
       "    }\n",
       "</style>\n",
       "<table border=\"1\" class=\"dataframe\">\n",
       "  <thead>\n",
       "    <tr style=\"text-align: right;\">\n",
       "      <th></th>\n",
       "      <th>Time_Stamp</th>\n",
       "      <th>A</th>\n",
       "      <th>B</th>\n",
       "      <th>C</th>\n",
       "      <th>D</th>\n",
       "      <th>SITUACAO</th>\n",
       "      <th>Z</th>\n",
       "    </tr>\n",
       "  </thead>\n",
       "  <tbody>\n",
       "    <tr>\n",
       "      <th>b</th>\n",
       "      <td>2022-01-04 23:43:44</td>\n",
       "      <td>217</td>\n",
       "      <td>227</td>\n",
       "      <td>244</td>\n",
       "      <td>58</td>\n",
       "      <td>2</td>\n",
       "      <td>NaN</td>\n",
       "    </tr>\n",
       "    <tr>\n",
       "      <th>1</th>\n",
       "      <td>2022-01-05 00:43:50</td>\n",
       "      <td>213</td>\n",
       "      <td>223</td>\n",
       "      <td>239</td>\n",
       "      <td>58</td>\n",
       "      <td>2</td>\n",
       "      <td>1.001667</td>\n",
       "    </tr>\n",
       "    <tr>\n",
       "      <th>2</th>\n",
       "      <td>2022-01-05 01:43:54</td>\n",
       "      <td>209</td>\n",
       "      <td>218</td>\n",
       "      <td>233</td>\n",
       "      <td>58</td>\n",
       "      <td>2</td>\n",
       "      <td>1.001111</td>\n",
       "    </tr>\n",
       "    <tr>\n",
       "      <th>3</th>\n",
       "      <td>2022-01-05 02:44:01</td>\n",
       "      <td>204</td>\n",
       "      <td>214</td>\n",
       "      <td>228</td>\n",
       "      <td>58</td>\n",
       "      <td>2</td>\n",
       "      <td>1.001944</td>\n",
       "    </tr>\n",
       "    <tr>\n",
       "      <th>4</th>\n",
       "      <td>2022-01-05 03:44:07</td>\n",
       "      <td>200</td>\n",
       "      <td>209</td>\n",
       "      <td>222</td>\n",
       "      <td>58</td>\n",
       "      <td>2</td>\n",
       "      <td>1.001667</td>\n",
       "    </tr>\n",
       "    <tr>\n",
       "      <th>...</th>\n",
       "      <td>...</td>\n",
       "      <td>...</td>\n",
       "      <td>...</td>\n",
       "      <td>...</td>\n",
       "      <td>...</td>\n",
       "      <td>...</td>\n",
       "      <td>...</td>\n",
       "    </tr>\n",
       "    <tr>\n",
       "      <th>196</th>\n",
       "      <td>2022-01-26 03:32:29</td>\n",
       "      <td>221</td>\n",
       "      <td>231</td>\n",
       "      <td>243</td>\n",
       "      <td>60</td>\n",
       "      <td>2</td>\n",
       "      <td>1.001389</td>\n",
       "    </tr>\n",
       "    <tr>\n",
       "      <th>197</th>\n",
       "      <td>2022-01-26 04:32:38</td>\n",
       "      <td>216</td>\n",
       "      <td>226</td>\n",
       "      <td>237</td>\n",
       "      <td>60</td>\n",
       "      <td>2</td>\n",
       "      <td>1.002500</td>\n",
       "    </tr>\n",
       "    <tr>\n",
       "      <th>198</th>\n",
       "      <td>2022-01-26 05:32:46</td>\n",
       "      <td>211</td>\n",
       "      <td>221</td>\n",
       "      <td>231</td>\n",
       "      <td>60</td>\n",
       "      <td>2</td>\n",
       "      <td>1.002222</td>\n",
       "    </tr>\n",
       "    <tr>\n",
       "      <th>199</th>\n",
       "      <td>2022-01-26 07:16:09</td>\n",
       "      <td>203</td>\n",
       "      <td>212</td>\n",
       "      <td>222</td>\n",
       "      <td>60</td>\n",
       "      <td>2</td>\n",
       "      <td>1.723056</td>\n",
       "    </tr>\n",
       "    <tr>\n",
       "      <th>200</th>\n",
       "      <td>2022-01-26 08:16:16</td>\n",
       "      <td>198</td>\n",
       "      <td>208</td>\n",
       "      <td>217</td>\n",
       "      <td>60</td>\n",
       "      <td>2</td>\n",
       "      <td>1.001944</td>\n",
       "    </tr>\n",
       "  </tbody>\n",
       "</table>\n",
       "<p>201 rows × 7 columns</p>\n",
       "</div>"
      ],
      "text/plain": [
       "              Time_Stamp    A    B    C   D  SITUACAO         Z\n",
       "b    2022-01-04 23:43:44  217  227  244  58         2       NaN\n",
       "1    2022-01-05 00:43:50  213  223  239  58         2  1.001667\n",
       "2    2022-01-05 01:43:54  209  218  233  58         2  1.001111\n",
       "3    2022-01-05 02:44:01  204  214  228  58         2  1.001944\n",
       "4    2022-01-05 03:44:07  200  209  222  58         2  1.001667\n",
       "..                   ...  ...  ...  ...  ..       ...       ...\n",
       "196  2022-01-26 03:32:29  221  231  243  60         2  1.001389\n",
       "197  2022-01-26 04:32:38  216  226  237  60         2  1.002500\n",
       "198  2022-01-26 05:32:46  211  221  231  60         2  1.002222\n",
       "199  2022-01-26 07:16:09  203  212  222  60         2  1.723056\n",
       "200  2022-01-26 08:16:16  198  208  217  60         2  1.001944\n",
       "\n",
       "[201 rows x 7 columns]"
      ]
     },
     "execution_count": 5,
     "metadata": {},
     "output_type": "execute_result"
    }
   ],
   "source": [
    "conn = sqlite3.connect('web.db')\n",
    "df_data = pd.read_csv('bd_data.csv', index_col=0)\n",
    "df_data"
   ]
  },
  {
   "cell_type": "code",
   "execution_count": 7,
   "metadata": {},
   "outputs": [
    {
     "data": {
      "text/html": [
       "<div>\n",
       "<style scoped>\n",
       "    .dataframe tbody tr th:only-of-type {\n",
       "        vertical-align: middle;\n",
       "    }\n",
       "\n",
       "    .dataframe tbody tr th {\n",
       "        vertical-align: top;\n",
       "    }\n",
       "\n",
       "    .dataframe thead th {\n",
       "        text-align: right;\n",
       "    }\n",
       "</style>\n",
       "<table border=\"1\" class=\"dataframe\">\n",
       "  <thead>\n",
       "    <tr style=\"text-align: right;\">\n",
       "      <th></th>\n",
       "      <th>Time_Stamp</th>\n",
       "      <th>A</th>\n",
       "      <th>B</th>\n",
       "      <th>C</th>\n",
       "      <th>D</th>\n",
       "      <th>SITUACAO</th>\n",
       "      <th>Z</th>\n",
       "    </tr>\n",
       "    <tr>\n",
       "      <th>index_name</th>\n",
       "      <th></th>\n",
       "      <th></th>\n",
       "      <th></th>\n",
       "      <th></th>\n",
       "      <th></th>\n",
       "      <th></th>\n",
       "      <th></th>\n",
       "    </tr>\n",
       "  </thead>\n",
       "  <tbody>\n",
       "    <tr>\n",
       "      <th>b</th>\n",
       "      <td>2022-01-04 23:43:44</td>\n",
       "      <td>217</td>\n",
       "      <td>227</td>\n",
       "      <td>244</td>\n",
       "      <td>58</td>\n",
       "      <td>2</td>\n",
       "      <td>NaN</td>\n",
       "    </tr>\n",
       "    <tr>\n",
       "      <th>1</th>\n",
       "      <td>2022-01-05 00:43:50</td>\n",
       "      <td>213</td>\n",
       "      <td>223</td>\n",
       "      <td>239</td>\n",
       "      <td>58</td>\n",
       "      <td>2</td>\n",
       "      <td>1.001667</td>\n",
       "    </tr>\n",
       "    <tr>\n",
       "      <th>2</th>\n",
       "      <td>2022-01-05 01:43:54</td>\n",
       "      <td>209</td>\n",
       "      <td>218</td>\n",
       "      <td>233</td>\n",
       "      <td>58</td>\n",
       "      <td>2</td>\n",
       "      <td>1.001111</td>\n",
       "    </tr>\n",
       "    <tr>\n",
       "      <th>3</th>\n",
       "      <td>2022-01-05 02:44:01</td>\n",
       "      <td>204</td>\n",
       "      <td>214</td>\n",
       "      <td>228</td>\n",
       "      <td>58</td>\n",
       "      <td>2</td>\n",
       "      <td>1.001944</td>\n",
       "    </tr>\n",
       "    <tr>\n",
       "      <th>4</th>\n",
       "      <td>2022-01-05 03:44:07</td>\n",
       "      <td>200</td>\n",
       "      <td>209</td>\n",
       "      <td>222</td>\n",
       "      <td>58</td>\n",
       "      <td>2</td>\n",
       "      <td>1.001667</td>\n",
       "    </tr>\n",
       "    <tr>\n",
       "      <th>...</th>\n",
       "      <td>...</td>\n",
       "      <td>...</td>\n",
       "      <td>...</td>\n",
       "      <td>...</td>\n",
       "      <td>...</td>\n",
       "      <td>...</td>\n",
       "      <td>...</td>\n",
       "    </tr>\n",
       "    <tr>\n",
       "      <th>196</th>\n",
       "      <td>2022-01-26 03:32:29</td>\n",
       "      <td>221</td>\n",
       "      <td>231</td>\n",
       "      <td>243</td>\n",
       "      <td>60</td>\n",
       "      <td>2</td>\n",
       "      <td>1.001389</td>\n",
       "    </tr>\n",
       "    <tr>\n",
       "      <th>197</th>\n",
       "      <td>2022-01-26 04:32:38</td>\n",
       "      <td>216</td>\n",
       "      <td>226</td>\n",
       "      <td>237</td>\n",
       "      <td>60</td>\n",
       "      <td>2</td>\n",
       "      <td>1.002500</td>\n",
       "    </tr>\n",
       "    <tr>\n",
       "      <th>198</th>\n",
       "      <td>2022-01-26 05:32:46</td>\n",
       "      <td>211</td>\n",
       "      <td>221</td>\n",
       "      <td>231</td>\n",
       "      <td>60</td>\n",
       "      <td>2</td>\n",
       "      <td>1.002222</td>\n",
       "    </tr>\n",
       "    <tr>\n",
       "      <th>199</th>\n",
       "      <td>2022-01-26 07:16:09</td>\n",
       "      <td>203</td>\n",
       "      <td>212</td>\n",
       "      <td>222</td>\n",
       "      <td>60</td>\n",
       "      <td>2</td>\n",
       "      <td>1.723056</td>\n",
       "    </tr>\n",
       "    <tr>\n",
       "      <th>200</th>\n",
       "      <td>2022-01-26 08:16:16</td>\n",
       "      <td>198</td>\n",
       "      <td>208</td>\n",
       "      <td>217</td>\n",
       "      <td>60</td>\n",
       "      <td>2</td>\n",
       "      <td>1.001944</td>\n",
       "    </tr>\n",
       "  </tbody>\n",
       "</table>\n",
       "<p>201 rows × 7 columns</p>\n",
       "</div>"
      ],
      "text/plain": [
       "                     Time_Stamp    A    B    C   D  SITUACAO         Z\n",
       "index_name                                                            \n",
       "b           2022-01-04 23:43:44  217  227  244  58         2       NaN\n",
       "1           2022-01-05 00:43:50  213  223  239  58         2  1.001667\n",
       "2           2022-01-05 01:43:54  209  218  233  58         2  1.001111\n",
       "3           2022-01-05 02:44:01  204  214  228  58         2  1.001944\n",
       "4           2022-01-05 03:44:07  200  209  222  58         2  1.001667\n",
       "...                         ...  ...  ...  ...  ..       ...       ...\n",
       "196         2022-01-26 03:32:29  221  231  243  60         2  1.001389\n",
       "197         2022-01-26 04:32:38  216  226  237  60         2  1.002500\n",
       "198         2022-01-26 05:32:46  211  221  231  60         2  1.002222\n",
       "199         2022-01-26 07:16:09  203  212  222  60         2  1.723056\n",
       "200         2022-01-26 08:16:16  198  208  217  60         2  1.001944\n",
       "\n",
       "[201 rows x 7 columns]"
      ]
     },
     "execution_count": 7,
     "metadata": {},
     "output_type": "execute_result"
    }
   ],
   "source": [
    "df_data.index.name = 'index_name'\n",
    "df_data"
   ]
  },
  {
   "cell_type": "code",
   "execution_count": 8,
   "metadata": {},
   "outputs": [
    {
     "data": {
      "text/plain": [
       "201"
      ]
     },
     "execution_count": 8,
     "metadata": {},
     "output_type": "execute_result"
    }
   ],
   "source": [
    "df_data.to_sql('data', conn, index_label= 'index_name') #(nome, engine de conexao)"
   ]
  },
  {
   "cell_type": "code",
   "execution_count": 9,
   "metadata": {},
   "outputs": [],
   "source": [
    "c =conn.cursor() #ponteiro"
   ]
  },
  {
   "cell_type": "code",
   "execution_count": 11,
   "metadata": {},
   "outputs": [
    {
     "data": {
      "text/plain": [
       "<sqlite3.Cursor at 0x1bf49ca74c0>"
      ]
     },
     "execution_count": 11,
     "metadata": {},
     "output_type": "execute_result"
    }
   ],
   "source": [
    "c.execute('CREATE TABLE products (product_id, product_name, price)') # comandos em sql sao todos em maiusculo"
   ]
  },
  {
   "cell_type": "code",
   "execution_count": 13,
   "metadata": {},
   "outputs": [
    {
     "ename": "OperationalError",
     "evalue": "no such table: products",
     "output_type": "error",
     "traceback": [
      "\u001b[1;31m---------------------------------------------------------------------------\u001b[0m",
      "\u001b[1;31mOperationalError\u001b[0m                          Traceback (most recent call last)",
      "Cell \u001b[1;32mIn[13], line 1\u001b[0m\n\u001b[1;32m----> 1\u001b[0m c\u001b[39m.\u001b[39mexecute(\u001b[39m'\u001b[39m\u001b[39mDROP TABLE products\u001b[39m\u001b[39m'\u001b[39m) \u001b[39m#deleta\u001b[39;00m\n\u001b[0;32m      2\u001b[0m c\u001b[39m.\u001b[39mexecute(\u001b[39m'\u001b[39m\u001b[39mDROP TABLE data\u001b[39m\u001b[39m'\u001b[39m)\n",
      "\u001b[1;31mOperationalError\u001b[0m: no such table: products"
     ]
    }
   ],
   "source": [
    "c.execute('DROP TABLE products') #deleta\n",
    "c.execute('DROP TABLE data')"
   ]
  },
  {
   "cell_type": "code",
   "execution_count": 15,
   "metadata": {},
   "outputs": [
    {
     "data": {
      "text/plain": [
       "<sqlite3.Cursor at 0x1bf49ca74c0>"
      ]
     },
     "execution_count": 15,
     "metadata": {},
     "output_type": "execute_result"
    }
   ],
   "source": [
    "c.execute('CREATE TABLE products ([product_id] INTERGER PRIMARY KEY, [product_name] TEXT, [price] INTERGER)')"
   ]
  },
  {
   "cell_type": "code",
   "execution_count": null,
   "metadata": {},
   "outputs": [],
   "source": []
  },
  {
   "cell_type": "markdown",
   "metadata": {},
   "source": [
    "## insert"
   ]
  },
  {
   "cell_type": "code",
   "execution_count": 19,
   "metadata": {},
   "outputs": [
    {
     "data": {
      "text/plain": [
       "<sqlite3.Cursor at 0x1bf49ca74c0>"
      ]
     },
     "execution_count": 19,
     "metadata": {},
     "output_type": "execute_result"
    }
   ],
   "source": [
    "c.execute('''INSERT INTO products (product_id, product_name, price)\n",
    "    VALUES\n",
    "    (1, 'computer', 800),\n",
    "    (2, 'printer', 800),\n",
    "    (3, 'tablet', 800)\n",
    "\n",
    "          ''') # comandos em sql sao todos em maiusculo"
   ]
  },
  {
   "cell_type": "code",
   "execution_count": 20,
   "metadata": {},
   "outputs": [],
   "source": [
    "conn.commit()"
   ]
  },
  {
   "cell_type": "code",
   "execution_count": null,
   "metadata": {},
   "outputs": [],
   "source": []
  }
 ],
 "metadata": {
  "kernelspec": {
   "display_name": "base",
   "language": "python",
   "name": "python3"
  },
  "language_info": {
   "codemirror_mode": {
    "name": "ipython",
    "version": 3
   },
   "file_extension": ".py",
   "mimetype": "text/x-python",
   "name": "python",
   "nbconvert_exporter": "python",
   "pygments_lexer": "ipython3",
   "version": "3.11.4"
  },
  "orig_nbformat": 4
 },
 "nbformat": 4,
 "nbformat_minor": 2
}
